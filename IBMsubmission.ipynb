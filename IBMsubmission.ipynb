{
 "cells": [
  {
   "cell_type": "markdown",
   "metadata": {},
   "source": [
    "<center>\n",
    "    <img src=\"https://cf-courses-data.s3.us.cloud-object-storage.appdomain.cloud/IBMDeveloperSkillsNetwork-DS0105EN-SkillsNetwork/labs/Module2/images/SN_web_lightmode.png\" width=\"300\" alt=\"cognitiveclass.ai logo\"  />\n",
    "</center>\n"
   ]
  },
  {
   "cell_type": "markdown",
   "metadata": {},
   "source": [
    "#### Add your code below following the instructions given in the course\n"
   ]
  },
  {
   "cell_type": "markdown",
   "metadata": {},
   "source": [
    "# \"My Jupyter Notebook on IBM Watson Studio\""
   ]
  },
  {
   "cell_type": "markdown",
   "metadata": {},
   "source": [
    "** My name is aswini mechiri**\n",
    "My Desired position is to work as data analyst at banking domain.my dream is to work at banking sector."
   ]
  },
  {
   "cell_type": "markdown",
   "metadata": {},
   "source": [
    "_I am interested in data science,because iam good at programming and mathematics.i want to enhance, improve and develop my skills further in this innovative and curious field._"
   ]
  },
  {
   "cell_type": "markdown",
   "metadata": {},
   "source": [
    "### Below code provides the mean,standard deviation of the numbers in the list provided."
   ]
  },
  {
   "cell_type": "code",
   "execution_count": 3,
   "metadata": {},
   "outputs": [
    {
     "name": "stdout",
     "output_type": "stream",
     "text": [
      "    0\n",
      "0   4\n",
      "1   5\n",
      "2   6\n",
      "3   7\n",
      "4   8\n",
      "5   9\n",
      "6  10\n",
      "\n",
      " THE MEAN OF THE LIST\n",
      "\n",
      "0    7.0\n",
      "dtype: float64\n",
      "\n",
      "\n",
      "  THE STANDARD DEVIATION OF THE LIST IS \n"
     ]
    },
    {
     "data": {
      "text/plain": [
       "0    2.160247\n",
       "dtype: float64"
      ]
     },
     "execution_count": 3,
     "metadata": {},
     "output_type": "execute_result"
    }
   ],
   "source": [
    "import pandas as df\n",
    "list_numbers=[4,5,6,7,8,9,10]\n",
    "data=df.DataFrame(list_numbers)\n",
    "print(data)\n",
    "\n",
    "mean=data.mean()\n",
    "print(\"\\n THE MEAN OF THE LIST\\n\")\n",
    "print(mean)\n",
    "print(\"\\n\\n  THE STANDARD DEVIATION OF THE LIST IS \")\n",
    "data.std()\n",
    "\n"
   ]
  },
  {
   "cell_type": "markdown",
   "metadata": {},
   "source": [
    "***LIST ***\n",
    "* data science is innovation\n",
    "* data science is interesting\n",
    "* data science is curious\n",
    "\n",
    "***LINK***\n",
    "\n",
    "[This is a link to courseera](https://coursera.org)\n",
    "\n",
    "***IMAGE***\n",
    "\n",
    "![Image of a DATA](https://upload.wikimedia.org/wikipedia/commons/6/6d/Data_types_-_en.svg)\n",
    "\n",
    "> DATA: The quantities, characters, or symbols on which operations are performed by a computer, being stored and transmitted in the form of electrical signals and recorded on magnetic, optical, or mechanical recording media. "
   ]
  },
  {
   "cell_type": "code",
   "execution_count": null,
   "metadata": {},
   "outputs": [],
   "source": []
  }
 ],
 "metadata": {
  "kernelspec": {
   "display_name": "Python",
   "language": "python",
   "name": "conda-env-python-py"
  },
  "language_info": {
   "codemirror_mode": {
    "name": "ipython",
    "version": 3
   },
   "file_extension": ".py",
   "mimetype": "text/x-python",
   "name": "python",
   "nbconvert_exporter": "python",
   "pygments_lexer": "ipython3",
   "version": "3.7.12"
  }
 },
 "nbformat": 4,
 "nbformat_minor": 4
}
